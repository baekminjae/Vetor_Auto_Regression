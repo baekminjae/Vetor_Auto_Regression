{
 "cells": [
  {
   "cell_type": "code",
   "execution_count": 1,
   "id": "c2bfc7d9",
   "metadata": {},
   "outputs": [],
   "source": [
    "%reload_ext autoreload\n",
    "%autoreload 2\n",
    "%matplotlib inline\n",
    "\n",
    "import ccxt\n",
    "from binance.client import Client\n",
    "import pandas as pd\n",
    "import numpy as np\n",
    "from pathlib import Path\n",
    "import time"
   ]
  },
  {
   "cell_type": "markdown",
   "id": "b1069cb2",
   "metadata": {},
   "source": [
    "### Global Variable"
   ]
  },
  {
   "cell_type": "code",
   "execution_count": 2,
   "id": "9d609ef1",
   "metadata": {},
   "outputs": [],
   "source": [
    "binance = ccxt.binance()\n",
    "APIKEY = 'Ms9e5Ls1AfaX4fMALsg2gPEOaEhB2qlJhWTzViK7eSxYuylYuBmHukteRn6GDaWj'\n",
    "## SECRETKEY = ''\n",
    "client = Client(APIKEY,SECRETKEY)"
   ]
  },
  {
   "cell_type": "code",
   "execution_count": 3,
   "id": "a8ea7a0b",
   "metadata": {},
   "outputs": [],
   "source": [
    "target = 'BTCUSDT'\n",
    "start_date = '15 Aug, 2017'\n",
    "end_date = '31 Aug, 2021'\n",
    "feature_name = f'{target} {start_date} {end_date}.csv'"
   ]
  },
  {
   "cell_type": "markdown",
   "id": "6094cee2",
   "metadata": {},
   "source": [
    "### Path Settings"
   ]
  },
  {
   "cell_type": "code",
   "execution_count": 4,
   "id": "b1fba041",
   "metadata": {},
   "outputs": [
    {
     "data": {
      "text/plain": [
       "'BTCUSDT 15 Aug, 2017 31 Aug, 2021.csv'"
      ]
     },
     "execution_count": 4,
     "metadata": {},
     "output_type": "execute_result"
    }
   ],
   "source": [
    "feature_name"
   ]
  },
  {
   "cell_type": "code",
   "execution_count": 5,
   "id": "6f25af66",
   "metadata": {},
   "outputs": [],
   "source": [
    "feature_dir = Path('../CUD/feature')\n",
    "feature_file = feature_dir / feature_name"
   ]
  },
  {
   "cell_type": "markdown",
   "id": "67db9bd5",
   "metadata": {},
   "source": [
    "### Get Data"
   ]
  },
  {
   "cell_type": "code",
   "execution_count": 6,
   "id": "38a1d182",
   "metadata": {},
   "outputs": [],
   "source": [
    "klines = client.get_historical_klines(target, Client.KLINE_INTERVAL_4HOUR, start_date, end_date)"
   ]
  },
  {
   "cell_type": "code",
   "execution_count": 7,
   "id": "25d52f90",
   "metadata": {},
   "outputs": [],
   "source": [
    "col_name = ['Open time','Open','High','Low','Close','Volume',\n",
    "           'Close time','Quote asset volume','Num trades',\n",
    "           'bav','qav','ignored']\n",
    "df = pd.DataFrame(klines, columns = col_name)"
   ]
  },
  {
   "cell_type": "markdown",
   "id": "55b9de11",
   "metadata": {},
   "source": [
    "### Feature Engineering"
   ]
  },
  {
   "cell_type": "code",
   "execution_count": 8,
   "id": "5711e968",
   "metadata": {},
   "outputs": [],
   "source": [
    "# drop unnecessary data\n",
    "df.drop(['Close time','bav','qav','ignored'],axis=1,inplace=True)"
   ]
  },
  {
   "cell_type": "code",
   "execution_count": 9,
   "id": "932fc0a6",
   "metadata": {},
   "outputs": [],
   "source": [
    "pd.set_option('display.max_columns', 30)\n",
    "pd.options.display.float_format = '{:.6f}'.format\n",
    "\n",
    "df = df.astype('float')"
   ]
  },
  {
   "cell_type": "code",
   "execution_count": 10,
   "id": "d25c596f",
   "metadata": {},
   "outputs": [],
   "source": [
    "# transform readable data\n",
    "def trans_time(a):\n",
    "    temp = a // 1000\n",
    "    return time.ctime(temp)\n",
    "\n",
    "df['Open time'] = df['Open time'].apply(trans_time)"
   ]
  },
  {
   "cell_type": "markdown",
   "id": "1c6e3aac",
   "metadata": {},
   "source": [
    "### Add Feature"
   ]
  },
  {
   "cell_type": "code",
   "execution_count": 11,
   "id": "68827d4a",
   "metadata": {},
   "outputs": [],
   "source": [
    "def VWAP(df):\n",
    "    vol = df.Volume.values\n",
    "    p = (df.Low + df.Close + df.High).div(3).values\n",
    "    \n",
    "    return (p*vol).cumsum() / vol.cumsum()\n",
    "\n",
    "df['VWAP'] = VWAP(df)"
   ]
  },
  {
   "cell_type": "code",
   "execution_count": 12,
   "id": "d3f91e01",
   "metadata": {},
   "outputs": [],
   "source": [
    "def RSI(df,period):\n",
    "    U = np.where(df.Close.diff(1) > 0, df.Close.diff(1), 0)\n",
    "    D = np.where(df.Close.diff(1) < 0, df.Close.diff(1)*(-1), 0)\n",
    "    AU = pd.DataFrame(U).rolling(window=period).mean()\n",
    "    AD = pd.DataFrame(D).rolling(window=period).mean()\n",
    "    RSI = AU / (AD+AU) * 100\n",
    "    \n",
    "    return RSI\n",
    "\n",
    "df['RSI'] = RSI(df,14)"
   ]
  },
  {
   "cell_type": "markdown",
   "id": "5babe814",
   "metadata": {},
   "source": [
    "### Send Data"
   ]
  },
  {
   "cell_type": "code",
   "execution_count": 13,
   "id": "51188514",
   "metadata": {},
   "outputs": [
    {
     "data": {
      "text/plain": [
       "'BTCUSDT 15 Aug, 2017 31 Aug, 2021.csv.csv'"
      ]
     },
     "execution_count": 13,
     "metadata": {},
     "output_type": "execute_result"
    }
   ],
   "source": [
    "feature_name+'.csv'"
   ]
  },
  {
   "cell_type": "code",
   "execution_count": 14,
   "id": "954eacc1",
   "metadata": {
    "scrolled": true
   },
   "outputs": [],
   "source": [
    "df.to_csv(feature_file,index = False)"
   ]
  }
 ],
 "metadata": {
  "kernelspec": {
   "display_name": "Python 3",
   "language": "python",
   "name": "python3"
  },
  "language_info": {
   "codemirror_mode": {
    "name": "ipython",
    "version": 3
   },
   "file_extension": ".py",
   "mimetype": "text/x-python",
   "name": "python",
   "nbconvert_exporter": "python",
   "pygments_lexer": "ipython3",
   "version": "3.8.8"
  }
 },
 "nbformat": 4,
 "nbformat_minor": 5
}
